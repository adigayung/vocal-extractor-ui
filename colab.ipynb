{
  "nbformat": 4,
  "nbformat_minor": 0,
  "metadata": {
    "colab": {
      "provenance": [],
      "gpuType": "T4"
    },
    "kernelspec": {
      "name": "python3",
      "display_name": "Python 3"
    },
    "language_info": {
      "name": "python"
    },
    "accelerator": "GPU"
  },
  "cells": [
    {
      "cell_type": "code",
      "source": [
        "!pip uninstall -y torch torchvision torchaudio\n",
        "!pip install torch==2.0.1 torchvision==0.15.2 torchaudio==2.0.2 --index-url https://download.pytorch.org/whl/cu118\n",
        "!pip install gradio\n",
        "!pip install numpy==1.24.4"
      ],
      "metadata": {
        "id": "MrYhsuDmmTg8"
      },
      "execution_count": null,
      "outputs": []
    },
    {
      "cell_type": "code",
      "source": [
        "!pip install -q git+https://github.com/facebookresearch/demucs\n",
        "!git clone https://github.com/adigayung/vocal-extractor-ui\n",
        "%cd vocal-extractor-ui"
      ],
      "metadata": {
        "id": "4BIdGrBg4DV9"
      },
      "execution_count": null,
      "outputs": []
    },
    {
      "cell_type": "code",
      "source": [
        "!python3 main.py"
      ],
      "metadata": {
        "id": "A6ER2orAqpgb"
      },
      "execution_count": null,
      "outputs": []
    }
  ]
}